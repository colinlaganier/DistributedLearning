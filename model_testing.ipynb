{
 "cells": [
  {
   "cell_type": "code",
   "execution_count": 133,
   "metadata": {},
   "outputs": [],
   "source": [
    "import torch\n",
    "import torch.nn as nn\n",
    "import torch.optim as optim\n",
    "import torch.nn.functional as F\n",
    "from models.Models import Models\n",
    "from models.ClientModelStrategy import ClientModelStrategy\n",
    "from torchvision import transforms\n",
    "from torchvision.transforms import ToTensor\n",
    "from torchvision.datasets import ImageFolder\n",
    "from torch.utils.data import DataLoader\n",
    "from torch.utils.tensorboard import SummaryWriter\n",
    "writer = SummaryWriter()"
   ]
  },
  {
   "cell_type": "code",
   "execution_count": 106,
   "metadata": {},
   "outputs": [],
   "source": [
    "models = ClientModelStrategy.strategy_1(4)"
   ]
  },
  {
   "cell_type": "code",
   "execution_count": 107,
   "metadata": {},
   "outputs": [
    {
     "data": {
      "text/plain": [
       "[<function models.Models.Models.ResNet18()>,\n",
       " <function models.Models.Models.ResNet18()>,\n",
       " <function models.Models.Models.ResNet34()>,\n",
       " <function models.Models.Models.ResNet34()>]"
      ]
     },
     "execution_count": 107,
     "metadata": {},
     "output_type": "execute_result"
    }
   ],
   "source": [
    "models"
   ]
  },
  {
   "cell_type": "code",
   "execution_count": 108,
   "metadata": {},
   "outputs": [],
   "source": [
    "model = Models.available[\"resnet18\"]()"
   ]
  },
  {
   "cell_type": "code",
   "execution_count": 112,
   "metadata": {},
   "outputs": [],
   "source": [
    "model = models[1]()"
   ]
  },
  {
   "cell_type": "code",
   "execution_count": 134,
   "metadata": {},
   "outputs": [],
   "source": [
    "model = Models.available[\"resnet18\"]()\n",
    "mean, std = [0.47889522, 0.47227842, 0.43047404], [0.24205776, 0.23828046, 0.25874835]\n",
    "train_transform = transforms.Compose([\n",
    "    # transforms.Resize((32,32)),\n",
    "    transforms.RandomCrop(32, padding=4),\n",
    "    transforms.RandomHorizontalFlip(),\n",
    "    transforms.ToTensor(),\n",
    "    transforms.Normalize(mean=mean, std=std),\n",
    "])\n",
    "dataset = ImageFolder(root=\"dataset/cinic-10/train\", transform=train_transform)\n",
    "dataloader = DataLoader(dataset, batch_size=128, shuffle=True, num_workers=4, pin_memory=True)\n",
    "\n",
    "torch.manual_seed(0)\n",
    "model = model(10)\n",
    "device = torch.device(\"cuda\" if torch.cuda.is_available() else \"cpu\")\n",
    "model = model.to(device)\n",
    "criterion = nn.CrossEntropyLoss().to(device)\n",
    "optimizer = optim.SGD(model.parameters(), lr=0.1, momentum=0.9, weight_decay=5e-4)\n",
    "\n"
   ]
  },
  {
   "cell_type": "code",
   "execution_count": 135,
   "metadata": {},
   "outputs": [],
   "source": [
    "def train(model, optimizer, criterion, epochs):\n",
    "    \"\"\"\n",
    "    Train the client model\n",
    "\n",
    "    Args:\n",
    "        num_epoch (int): number of epochs to train for\n",
    "    \"\"\"\n",
    "    # self.model.to(self.device) \n",
    "    model.train()\n",
    "\n",
    "    for epoch in range(epochs):\n",
    "        total_loss = 0\n",
    "        total_correct = 0\n",
    "        for batch_idx, (data, target) in enumerate(dataloader):\n",
    "            # Send data and target to device\n",
    "            data, target = data.to(device), target.to(device)\n",
    "            \n",
    "            # Zero out gradients\n",
    "            optimizer.zero_grad()\n",
    "\n",
    "            # Forward pass\n",
    "            output = model(data)\n",
    "            loss = criterion(output, target)\n",
    "\n",
    "            total_loss+= loss.item()\n",
    "            total_correct+= output.argmax(dim=1).eq(target).sum().item()\n",
    "\n",
    "            loss.backward()\n",
    "            optimizer.step()\n",
    "\n",
    "            if batch_idx % 100 == 0:\n",
    "                print('Train Epoch: {} [{}/{} ({:.0f}%)]\\tLoss: {:.6f}'.format(\n",
    "                    epoch, batch_idx * len(data), len(dataloader.dataset),\n",
    "                    100. * batch_idx / len(dataloader), loss.item()))\n",
    "        \n",
    "        writer.add_scalar(\"Loss\", total_loss/len(dataloader), epoch)\n",
    "        writer.add_scalar(\"Accuracy\", total_correct/len(dataloader), epoch)\n"
   ]
  },
  {
   "cell_type": "code",
   "execution_count": 136,
   "metadata": {},
   "outputs": [
    {
     "name": "stdout",
     "output_type": "stream",
     "text": [
      "Train Epoch: 0 [0/90000 (0%)]\tLoss: 2.506264\n",
      "Train Epoch: 0 [12800/90000 (14%)]\tLoss: 2.133464\n",
      "Train Epoch: 0 [25600/90000 (28%)]\tLoss: 2.090482\n",
      "Train Epoch: 0 [38400/90000 (43%)]\tLoss: 1.777045\n",
      "Train Epoch: 0 [51200/90000 (57%)]\tLoss: 1.875668\n",
      "Train Epoch: 0 [64000/90000 (71%)]\tLoss: 1.834829\n",
      "Train Epoch: 0 [76800/90000 (85%)]\tLoss: 1.943865\n",
      "Train Epoch: 0 [89600/90000 (99%)]\tLoss: 1.715464\n",
      "Train Epoch: 1 [0/90000 (0%)]\tLoss: 1.804011\n",
      "Train Epoch: 1 [12800/90000 (14%)]\tLoss: 1.605680\n",
      "Train Epoch: 1 [25600/90000 (28%)]\tLoss: 1.532412\n",
      "Train Epoch: 1 [38400/90000 (43%)]\tLoss: 1.562299\n",
      "Train Epoch: 1 [51200/90000 (57%)]\tLoss: 1.690869\n",
      "Train Epoch: 1 [64000/90000 (71%)]\tLoss: 1.491912\n",
      "Train Epoch: 1 [76800/90000 (85%)]\tLoss: 1.529961\n",
      "Train Epoch: 1 [89600/90000 (99%)]\tLoss: 1.577267\n",
      "Train Epoch: 2 [0/90000 (0%)]\tLoss: 1.586211\n",
      "Train Epoch: 2 [12800/90000 (14%)]\tLoss: 1.498237\n",
      "Train Epoch: 2 [25600/90000 (28%)]\tLoss: 1.438230\n",
      "Train Epoch: 2 [38400/90000 (43%)]\tLoss: 1.405364\n",
      "Train Epoch: 2 [51200/90000 (57%)]\tLoss: 1.472421\n",
      "Train Epoch: 2 [64000/90000 (71%)]\tLoss: 1.446980\n",
      "Train Epoch: 2 [76800/90000 (85%)]\tLoss: 1.418378\n",
      "Train Epoch: 2 [89600/90000 (99%)]\tLoss: 1.376090\n",
      "Train Epoch: 3 [0/90000 (0%)]\tLoss: 1.437537\n",
      "Train Epoch: 3 [12800/90000 (14%)]\tLoss: 1.491472\n",
      "Train Epoch: 3 [25600/90000 (28%)]\tLoss: 1.457240\n",
      "Train Epoch: 3 [38400/90000 (43%)]\tLoss: 1.521360\n",
      "Train Epoch: 3 [51200/90000 (57%)]\tLoss: 1.373274\n",
      "Train Epoch: 3 [64000/90000 (71%)]\tLoss: 1.434553\n",
      "Train Epoch: 3 [76800/90000 (85%)]\tLoss: 1.344669\n",
      "Train Epoch: 3 [89600/90000 (99%)]\tLoss: 1.387825\n",
      "Train Epoch: 4 [0/90000 (0%)]\tLoss: 1.208913\n",
      "Train Epoch: 4 [12800/90000 (14%)]\tLoss: 1.300442\n",
      "Train Epoch: 4 [25600/90000 (28%)]\tLoss: 1.269224\n",
      "Train Epoch: 4 [38400/90000 (43%)]\tLoss: 1.257591\n",
      "Train Epoch: 4 [51200/90000 (57%)]\tLoss: 1.317388\n",
      "Train Epoch: 4 [64000/90000 (71%)]\tLoss: 1.340442\n",
      "Train Epoch: 4 [76800/90000 (85%)]\tLoss: 1.314275\n",
      "Train Epoch: 4 [89600/90000 (99%)]\tLoss: 1.087589\n",
      "Train Epoch: 5 [0/90000 (0%)]\tLoss: 1.267912\n",
      "Train Epoch: 5 [12800/90000 (14%)]\tLoss: 1.268160\n",
      "Train Epoch: 5 [25600/90000 (28%)]\tLoss: 1.296032\n",
      "Train Epoch: 5 [38400/90000 (43%)]\tLoss: 1.233795\n",
      "Train Epoch: 5 [51200/90000 (57%)]\tLoss: 1.152958\n",
      "Train Epoch: 5 [64000/90000 (71%)]\tLoss: 1.362971\n",
      "Train Epoch: 5 [76800/90000 (85%)]\tLoss: 1.260800\n",
      "Train Epoch: 5 [89600/90000 (99%)]\tLoss: 1.530647\n",
      "Train Epoch: 6 [0/90000 (0%)]\tLoss: 1.130633\n",
      "Train Epoch: 6 [12800/90000 (14%)]\tLoss: 1.211775\n",
      "Train Epoch: 6 [25600/90000 (28%)]\tLoss: 1.566921\n",
      "Train Epoch: 6 [38400/90000 (43%)]\tLoss: 1.324765\n",
      "Train Epoch: 6 [51200/90000 (57%)]\tLoss: 1.415723\n",
      "Train Epoch: 6 [64000/90000 (71%)]\tLoss: 1.350249\n",
      "Train Epoch: 6 [76800/90000 (85%)]\tLoss: 1.380274\n",
      "Train Epoch: 6 [89600/90000 (99%)]\tLoss: 1.252776\n",
      "Train Epoch: 7 [0/90000 (0%)]\tLoss: 1.166602\n",
      "Train Epoch: 7 [12800/90000 (14%)]\tLoss: 1.190821\n",
      "Train Epoch: 7 [25600/90000 (28%)]\tLoss: 1.312017\n",
      "Train Epoch: 7 [38400/90000 (43%)]\tLoss: 1.163067\n",
      "Train Epoch: 7 [51200/90000 (57%)]\tLoss: 1.144618\n",
      "Train Epoch: 7 [64000/90000 (71%)]\tLoss: 1.330480\n",
      "Train Epoch: 7 [76800/90000 (85%)]\tLoss: 1.089794\n",
      "Train Epoch: 7 [89600/90000 (99%)]\tLoss: 1.197241\n",
      "Train Epoch: 8 [0/90000 (0%)]\tLoss: 1.309861\n",
      "Train Epoch: 8 [12800/90000 (14%)]\tLoss: 1.250887\n",
      "Train Epoch: 8 [25600/90000 (28%)]\tLoss: 1.016793\n",
      "Train Epoch: 8 [38400/90000 (43%)]\tLoss: 1.283602\n",
      "Train Epoch: 8 [51200/90000 (57%)]\tLoss: 1.314727\n",
      "Train Epoch: 8 [64000/90000 (71%)]\tLoss: 1.186723\n",
      "Train Epoch: 8 [76800/90000 (85%)]\tLoss: 1.163761\n",
      "Train Epoch: 8 [89600/90000 (99%)]\tLoss: 1.107445\n",
      "Train Epoch: 9 [0/90000 (0%)]\tLoss: 1.359620\n",
      "Train Epoch: 9 [12800/90000 (14%)]\tLoss: 1.160496\n",
      "Train Epoch: 9 [25600/90000 (28%)]\tLoss: 1.179024\n",
      "Train Epoch: 9 [38400/90000 (43%)]\tLoss: 1.209470\n",
      "Train Epoch: 9 [51200/90000 (57%)]\tLoss: 1.156216\n",
      "Train Epoch: 9 [64000/90000 (71%)]\tLoss: 1.166768\n",
      "Train Epoch: 9 [76800/90000 (85%)]\tLoss: 0.947958\n",
      "Train Epoch: 9 [89600/90000 (99%)]\tLoss: 1.167063\n",
      "Train Epoch: 10 [0/90000 (0%)]\tLoss: 1.162472\n",
      "Train Epoch: 10 [12800/90000 (14%)]\tLoss: 1.166890\n",
      "Train Epoch: 10 [25600/90000 (28%)]\tLoss: 1.220633\n",
      "Train Epoch: 10 [38400/90000 (43%)]\tLoss: 1.309539\n",
      "Train Epoch: 10 [51200/90000 (57%)]\tLoss: 1.106176\n",
      "Train Epoch: 10 [64000/90000 (71%)]\tLoss: 1.187152\n",
      "Train Epoch: 10 [76800/90000 (85%)]\tLoss: 1.242102\n",
      "Train Epoch: 10 [89600/90000 (99%)]\tLoss: 1.118098\n",
      "Train Epoch: 11 [0/90000 (0%)]\tLoss: 1.360315\n",
      "Train Epoch: 11 [12800/90000 (14%)]\tLoss: 1.283682\n",
      "Train Epoch: 11 [25600/90000 (28%)]\tLoss: 1.045462\n",
      "Train Epoch: 11 [38400/90000 (43%)]\tLoss: 1.260450\n",
      "Train Epoch: 11 [51200/90000 (57%)]\tLoss: 1.099101\n",
      "Train Epoch: 11 [64000/90000 (71%)]\tLoss: 1.016382\n",
      "Train Epoch: 11 [76800/90000 (85%)]\tLoss: 1.204691\n",
      "Train Epoch: 11 [89600/90000 (99%)]\tLoss: 1.147097\n",
      "Train Epoch: 12 [0/90000 (0%)]\tLoss: 1.205839\n",
      "Train Epoch: 12 [12800/90000 (14%)]\tLoss: 1.162004\n",
      "Train Epoch: 12 [25600/90000 (28%)]\tLoss: 1.280647\n",
      "Train Epoch: 12 [38400/90000 (43%)]\tLoss: 1.205846\n",
      "Train Epoch: 12 [51200/90000 (57%)]\tLoss: 1.094010\n",
      "Train Epoch: 12 [64000/90000 (71%)]\tLoss: 0.998658\n",
      "Train Epoch: 12 [76800/90000 (85%)]\tLoss: 1.289277\n",
      "Train Epoch: 12 [89600/90000 (99%)]\tLoss: 1.181938\n",
      "Train Epoch: 13 [0/90000 (0%)]\tLoss: 1.389416\n",
      "Train Epoch: 13 [12800/90000 (14%)]\tLoss: 1.117870\n",
      "Train Epoch: 13 [25600/90000 (28%)]\tLoss: 1.106856\n",
      "Train Epoch: 13 [38400/90000 (43%)]\tLoss: 0.977874\n",
      "Train Epoch: 13 [51200/90000 (57%)]\tLoss: 1.128873\n",
      "Train Epoch: 13 [64000/90000 (71%)]\tLoss: 1.043988\n",
      "Train Epoch: 13 [76800/90000 (85%)]\tLoss: 1.174054\n",
      "Train Epoch: 13 [89600/90000 (99%)]\tLoss: 1.229673\n",
      "Train Epoch: 14 [0/90000 (0%)]\tLoss: 1.443181\n",
      "Train Epoch: 14 [12800/90000 (14%)]\tLoss: 1.004118\n",
      "Train Epoch: 14 [25600/90000 (28%)]\tLoss: 1.091370\n",
      "Train Epoch: 14 [38400/90000 (43%)]\tLoss: 1.184470\n",
      "Train Epoch: 14 [51200/90000 (57%)]\tLoss: 1.153102\n",
      "Train Epoch: 14 [64000/90000 (71%)]\tLoss: 1.284450\n",
      "Train Epoch: 14 [76800/90000 (85%)]\tLoss: 1.081187\n",
      "Train Epoch: 14 [89600/90000 (99%)]\tLoss: 1.116183\n",
      "Train Epoch: 15 [0/90000 (0%)]\tLoss: 1.083896\n",
      "Train Epoch: 15 [12800/90000 (14%)]\tLoss: 1.229616\n",
      "Train Epoch: 15 [25600/90000 (28%)]\tLoss: 0.980465\n",
      "Train Epoch: 15 [38400/90000 (43%)]\tLoss: 1.088309\n",
      "Train Epoch: 15 [51200/90000 (57%)]\tLoss: 1.267938\n",
      "Train Epoch: 15 [64000/90000 (71%)]\tLoss: 1.178467\n",
      "Train Epoch: 15 [76800/90000 (85%)]\tLoss: 1.011385\n",
      "Train Epoch: 15 [89600/90000 (99%)]\tLoss: 1.108280\n",
      "Train Epoch: 16 [0/90000 (0%)]\tLoss: 1.264660\n",
      "Train Epoch: 16 [12800/90000 (14%)]\tLoss: 1.241326\n",
      "Train Epoch: 16 [25600/90000 (28%)]\tLoss: 1.143762\n",
      "Train Epoch: 16 [38400/90000 (43%)]\tLoss: 1.024613\n",
      "Train Epoch: 16 [51200/90000 (57%)]\tLoss: 1.140775\n",
      "Train Epoch: 16 [64000/90000 (71%)]\tLoss: 1.218214\n",
      "Train Epoch: 16 [76800/90000 (85%)]\tLoss: 1.265548\n",
      "Train Epoch: 16 [89600/90000 (99%)]\tLoss: 1.223345\n",
      "Train Epoch: 17 [0/90000 (0%)]\tLoss: 1.006774\n",
      "Train Epoch: 17 [12800/90000 (14%)]\tLoss: 1.212600\n",
      "Train Epoch: 17 [25600/90000 (28%)]\tLoss: 1.319676\n",
      "Train Epoch: 17 [38400/90000 (43%)]\tLoss: 0.984567\n",
      "Train Epoch: 17 [51200/90000 (57%)]\tLoss: 1.127498\n",
      "Train Epoch: 17 [64000/90000 (71%)]\tLoss: 1.233649\n",
      "Train Epoch: 17 [76800/90000 (85%)]\tLoss: 1.213638\n",
      "Train Epoch: 17 [89600/90000 (99%)]\tLoss: 1.037278\n",
      "Train Epoch: 18 [0/90000 (0%)]\tLoss: 1.091784\n",
      "Train Epoch: 18 [12800/90000 (14%)]\tLoss: 1.062787\n",
      "Train Epoch: 18 [25600/90000 (28%)]\tLoss: 1.092756\n",
      "Train Epoch: 18 [38400/90000 (43%)]\tLoss: 1.023120\n",
      "Train Epoch: 18 [51200/90000 (57%)]\tLoss: 1.111884\n",
      "Train Epoch: 18 [64000/90000 (71%)]\tLoss: 1.209332\n",
      "Train Epoch: 18 [76800/90000 (85%)]\tLoss: 1.024041\n",
      "Train Epoch: 18 [89600/90000 (99%)]\tLoss: 1.182020\n",
      "Train Epoch: 19 [0/90000 (0%)]\tLoss: 1.109774\n",
      "Train Epoch: 19 [12800/90000 (14%)]\tLoss: 1.062136\n",
      "Train Epoch: 19 [25600/90000 (28%)]\tLoss: 1.123696\n",
      "Train Epoch: 19 [38400/90000 (43%)]\tLoss: 1.134177\n",
      "Train Epoch: 19 [51200/90000 (57%)]\tLoss: 1.233590\n",
      "Train Epoch: 19 [64000/90000 (71%)]\tLoss: 1.104820\n",
      "Train Epoch: 19 [76800/90000 (85%)]\tLoss: 1.152686\n",
      "Train Epoch: 19 [89600/90000 (99%)]\tLoss: 1.240560\n"
     ]
    }
   ],
   "source": [
    "train(model, optimizer, criterion, 20)"
   ]
  },
  {
   "cell_type": "code",
   "execution_count": 100,
   "metadata": {},
   "outputs": [],
   "source": [
    "writer.close()"
   ]
  },
  {
   "cell_type": "code",
   "execution_count": 6,
   "metadata": {},
   "outputs": [],
   "source": [
    "test_transform = transforms.Compose([\n",
    "    transforms.ToTensor(),\n",
    "    transforms.Normalize(mean=mean, std=std),\n",
    "])\n",
    "\n",
    "test_dataset = ImageFolder(root=\"dataset/cinic-10/test\", transform=test_transform)\n",
    "test_dataloader = DataLoader(test_dataset, batch_size=128, shuffle=True, num_workers=4, pin_memory=True)"
   ]
  },
  {
   "cell_type": "code",
   "execution_count": 15,
   "metadata": {},
   "outputs": [],
   "source": [
    "synthetic_dataset = ImageFolder(root=\"diffusion/dataset/cifar_10/\", transform=test_transform)\n",
    "synthetic_dataloader = DataLoader(synthetic_dataset, batch_size=128, shuffle=True, num_workers=4, pin_memory=True)"
   ]
  },
  {
   "cell_type": "code",
   "execution_count": 102,
   "metadata": {},
   "outputs": [],
   "source": [
    "@torch.inference_mode()\n",
    "def evaluate(model):\n",
    "    model.eval()\n",
    "    with torch.no_grad():\n",
    "        total_loss = 0\n",
    "        count = 0\n",
    "        total_accuracy = 0\n",
    "        for batch_idx, (data, target) in enumerate(test_dataloader):\n",
    "            data, target = data.to(device), target.to(device)\n",
    "            output = model(data)\n",
    "            loss = criterion(output, target)\n",
    "            total_loss += loss.item() * len(data)\n",
    "            count += len(data)\n",
    "            accuracy = (output.argmax(dim=1) == target).float().mean().item()\n",
    "            total_accuracy += accuracy * len(data)\n",
    "        print(\"len(data): {}, len(dataloader): {}\".format(count, len(test_dataset)))\n",
    "        print(\"Test loss: {}\".format(total_loss / count))\n",
    "        print(\"Test accuracy: {}\".format(total_accuracy / count))\n",
    "\n"
   ]
  },
  {
   "cell_type": "code",
   "execution_count": 89,
   "metadata": {},
   "outputs": [],
   "source": [
    "from knowledge_distillation import SoftTarget\n",
    "kd_temperature = 1\n",
    "kd_alpha = 0.5\n",
    "kd_epochs = 10\n",
    "\n",
    "def knowledge_distillation(server_logits, synthetic_data=None, diffusion_seed=None):\n",
    "    \"\"\"\n",
    "    Knowledge distillation from server to client\n",
    "\n",
    "    Args:\n",
    "        server_logits (torch.Tensor): logits from the server model\n",
    "        synthetic_data (torch.utils.data.DataLoader): synthetic diffusion data - if not generated at runtime\n",
    "        diffusion_seed (int): random seed for diffusion sampling - if generated at runtime\n",
    "    Returns:\n",
    "        torch.Tensor: logits from the client model\n",
    "    \"\"\"\n",
    "\n",
    "    # Generate synthetic data if not provided\n",
    "    # if synthetic_data is None:\n",
    "    #     synthetic_data = generate_diffusion(diffusion_seed)\n",
    "\n",
    "    # model.to(device)\n",
    "    model.train()\n",
    "\n",
    "    optimizer = optim.SGD(model.parameters(), lr=0.01, momentum=0.9)\n",
    "\n",
    "    kd_criterion = SoftTarget(kd_temperature).to(device)\n",
    "    criterion = nn.CrossEntropyLoss().to(device)\n",
    "\n",
    "    for epoch in range(kd_epochs):\n",
    "        for batch_idx, ((data, target), logit) in enumerate(zip(synthetic_data, server_logits)):\n",
    "\n",
    "            logit = logit[0]\n",
    "\n",
    "            data, target, logit = data.to(device), target.to(device), logit.to(device)\n",
    "\n",
    "            optimizer.zero_grad()\n",
    "\n",
    "            output = model(data)\n",
    "\n",
    "            # loss = kd_alpha * kd_criterion(output, server_logits, target)\n",
    "            loss = (1 - kd_alpha) * criterion(output, target) + \\\n",
    "                    kd_alpha * kd_criterion(output, logit)\n",
    "\n",
    "            loss.backward()\n",
    "            optimizer.step()\n",
    "\n",
    "\n",
    "def generate_logit(model, synthetic_data, diffusion_seed=None):\n",
    "    \"\"\"\n",
    "    Generate logits from the client model\n",
    "\n",
    "    Args:\n",
    "        diffusion_seed (int): random seed for diffusion sampling - if generated at runtime\n",
    "    Returns:\n",
    "        torch.Tensor: logits from the client model\n",
    "    \"\"\"\n",
    "\n",
    "    # if synthetic_data is None:\n",
    "    #     synthetic_data = generate_diffusion(diffusion_seed)\n",
    "\n",
    "    # model.to(device)\n",
    "    model.eval()\n",
    "\n",
    "    with torch.no_grad():\n",
    "        logits = []\n",
    "\n",
    "        for batch_idx, (data, target) in enumerate(synthetic_data):\n",
    "            data, target = data.to(device), target.to(device)\n",
    "\n",
    "            output = model(data)\n",
    "            logits.append(output)\n",
    "\n",
    "    # return torch.cat(logits, dim=0) \n",
    "    return torch.cat(logits).detach().cpu()\n"
   ]
  },
  {
   "cell_type": "code",
   "execution_count": 16,
   "metadata": {},
   "outputs": [
    {
     "data": {
      "text/plain": [
       "tensor([[-3.7136e-01,  5.5566e+00, -1.9034e+00,  ..., -2.2747e+00,\n",
       "         -2.3779e-01,  5.6667e+00],\n",
       "        [-2.7515e-01,  4.7884e+00, -1.8918e+00,  ..., -2.1806e+00,\n",
       "          9.2094e-01,  5.4238e+00],\n",
       "        [-1.9213e+00, -3.7828e+00,  1.2176e+00,  ...,  3.2784e+00,\n",
       "         -3.6679e+00, -3.2022e+00],\n",
       "        ...,\n",
       "        [ 2.7700e+00, -1.7160e-01, -1.2474e+00,  ..., -2.5995e+00,\n",
       "          5.7527e+00,  7.1538e-01],\n",
       "        [ 3.9338e+00, -1.6628e+00,  1.2267e-03,  ..., -4.3972e+00,\n",
       "          7.8782e+00, -7.3171e-01],\n",
       "        [-2.6094e+00, -4.4847e+00,  2.9344e+00,  ..., -1.0425e+00,\n",
       "         -3.0934e+00, -4.3059e+00]], device='cuda:0')"
      ]
     },
     "execution_count": 16,
     "metadata": {},
     "output_type": "execute_result"
    }
   ],
   "source": [
    "generate_logit(synthetic_dataloader)"
   ]
  },
  {
   "cell_type": "code",
   "execution_count": 19,
   "metadata": {},
   "outputs": [],
   "source": [
    "model_2 = Models.available[\"resnet34\"]()\n",
    "torch.manual_seed(0)\n",
    "model_2 = model_2(10)\n",
    "device = torch.device(\"cuda\" if torch.cuda.is_available() else \"cpu\")\n",
    "model_2 = model_2.to(device)\n",
    "criterion_2 = nn.CrossEntropyLoss()\n",
    "optimizer_2 = optim.SGD(model_2.parameters(), lr=0.1, momentum=0.9, weight_decay=5e-4)"
   ]
  },
  {
   "cell_type": "code",
   "execution_count": 21,
   "metadata": {},
   "outputs": [
    {
     "name": "stdout",
     "output_type": "stream",
     "text": [
      "Train Epoch: 0 [0/90000 (0%)]\tLoss: 2.570911\n",
      "Train Epoch: 0 [12800/90000 (14%)]\tLoss: 2.240410\n",
      "Train Epoch: 0 [25600/90000 (28%)]\tLoss: 2.093195\n",
      "Train Epoch: 0 [38400/90000 (43%)]\tLoss: 2.025651\n",
      "Train Epoch: 0 [51200/90000 (57%)]\tLoss: 2.000476\n",
      "Train Epoch: 0 [64000/90000 (71%)]\tLoss: 2.025659\n",
      "Train Epoch: 0 [76800/90000 (85%)]\tLoss: 1.887202\n",
      "Train Epoch: 0 [89600/90000 (99%)]\tLoss: 1.894434\n",
      "Train Epoch: 1 [0/90000 (0%)]\tLoss: 1.873704\n",
      "Train Epoch: 1 [12800/90000 (14%)]\tLoss: 2.030087\n",
      "Train Epoch: 1 [25600/90000 (28%)]\tLoss: 1.807551\n",
      "Train Epoch: 1 [38400/90000 (43%)]\tLoss: 1.806714\n",
      "Train Epoch: 1 [51200/90000 (57%)]\tLoss: 1.746591\n",
      "Train Epoch: 1 [64000/90000 (71%)]\tLoss: 1.721034\n",
      "Train Epoch: 1 [76800/90000 (85%)]\tLoss: 1.771278\n",
      "Train Epoch: 1 [89600/90000 (99%)]\tLoss: 1.859686\n",
      "Train Epoch: 2 [0/90000 (0%)]\tLoss: 1.762330\n",
      "Train Epoch: 2 [12800/90000 (14%)]\tLoss: 1.712124\n",
      "Train Epoch: 2 [25600/90000 (28%)]\tLoss: 1.708805\n",
      "Train Epoch: 2 [38400/90000 (43%)]\tLoss: 1.552376\n",
      "Train Epoch: 2 [51200/90000 (57%)]\tLoss: 1.717947\n",
      "Train Epoch: 2 [64000/90000 (71%)]\tLoss: 1.510668\n",
      "Train Epoch: 2 [76800/90000 (85%)]\tLoss: 1.640580\n",
      "Train Epoch: 2 [89600/90000 (99%)]\tLoss: 1.623417\n",
      "Train Epoch: 3 [0/90000 (0%)]\tLoss: 1.698709\n",
      "Train Epoch: 3 [12800/90000 (14%)]\tLoss: 1.676888\n",
      "Train Epoch: 3 [25600/90000 (28%)]\tLoss: 1.430509\n",
      "Train Epoch: 3 [38400/90000 (43%)]\tLoss: 1.614950\n",
      "Train Epoch: 3 [51200/90000 (57%)]\tLoss: 1.626632\n",
      "Train Epoch: 3 [64000/90000 (71%)]\tLoss: 1.472926\n",
      "Train Epoch: 3 [76800/90000 (85%)]\tLoss: 1.413639\n",
      "Train Epoch: 3 [89600/90000 (99%)]\tLoss: 1.465615\n",
      "Train Epoch: 4 [0/90000 (0%)]\tLoss: 1.480560\n",
      "Train Epoch: 4 [12800/90000 (14%)]\tLoss: 1.474845\n",
      "Train Epoch: 4 [25600/90000 (28%)]\tLoss: 1.525255\n",
      "Train Epoch: 4 [38400/90000 (43%)]\tLoss: 1.584231\n",
      "Train Epoch: 4 [51200/90000 (57%)]\tLoss: 1.582923\n",
      "Train Epoch: 4 [64000/90000 (71%)]\tLoss: 1.370964\n",
      "Train Epoch: 4 [76800/90000 (85%)]\tLoss: 1.308867\n",
      "Train Epoch: 4 [89600/90000 (99%)]\tLoss: 1.509860\n",
      "Train Epoch: 5 [0/90000 (0%)]\tLoss: 1.400922\n",
      "Train Epoch: 5 [12800/90000 (14%)]\tLoss: 1.322663\n",
      "Train Epoch: 5 [25600/90000 (28%)]\tLoss: 1.460894\n",
      "Train Epoch: 5 [38400/90000 (43%)]\tLoss: 1.489222\n",
      "Train Epoch: 5 [51200/90000 (57%)]\tLoss: 1.399506\n",
      "Train Epoch: 5 [64000/90000 (71%)]\tLoss: 1.290564\n",
      "Train Epoch: 5 [76800/90000 (85%)]\tLoss: 1.304294\n",
      "Train Epoch: 5 [89600/90000 (99%)]\tLoss: 1.531556\n",
      "Train Epoch: 6 [0/90000 (0%)]\tLoss: 1.346233\n",
      "Train Epoch: 6 [12800/90000 (14%)]\tLoss: 1.456350\n",
      "Train Epoch: 6 [25600/90000 (28%)]\tLoss: 1.331306\n",
      "Train Epoch: 6 [38400/90000 (43%)]\tLoss: 1.290947\n",
      "Train Epoch: 6 [51200/90000 (57%)]\tLoss: 1.509168\n",
      "Train Epoch: 6 [64000/90000 (71%)]\tLoss: 1.430311\n",
      "Train Epoch: 6 [76800/90000 (85%)]\tLoss: 1.388899\n",
      "Train Epoch: 6 [89600/90000 (99%)]\tLoss: 1.237530\n",
      "Train Epoch: 7 [0/90000 (0%)]\tLoss: 1.262202\n",
      "Train Epoch: 7 [12800/90000 (14%)]\tLoss: 1.320450\n",
      "Train Epoch: 7 [25600/90000 (28%)]\tLoss: 1.291523\n",
      "Train Epoch: 7 [38400/90000 (43%)]\tLoss: 1.332860\n",
      "Train Epoch: 7 [51200/90000 (57%)]\tLoss: 1.431691\n",
      "Train Epoch: 7 [64000/90000 (71%)]\tLoss: 1.310591\n",
      "Train Epoch: 7 [76800/90000 (85%)]\tLoss: 1.325150\n",
      "Train Epoch: 7 [89600/90000 (99%)]\tLoss: 1.401620\n",
      "Train Epoch: 8 [0/90000 (0%)]\tLoss: 1.302306\n",
      "Train Epoch: 8 [12800/90000 (14%)]\tLoss: 1.237643\n",
      "Train Epoch: 8 [25600/90000 (28%)]\tLoss: 1.289146\n",
      "Train Epoch: 8 [38400/90000 (43%)]\tLoss: 1.282168\n",
      "Train Epoch: 8 [51200/90000 (57%)]\tLoss: 1.407613\n",
      "Train Epoch: 8 [64000/90000 (71%)]\tLoss: 1.355057\n",
      "Train Epoch: 8 [76800/90000 (85%)]\tLoss: 1.443050\n",
      "Train Epoch: 8 [89600/90000 (99%)]\tLoss: 1.261785\n",
      "Train Epoch: 9 [0/90000 (0%)]\tLoss: 1.254274\n",
      "Train Epoch: 9 [12800/90000 (14%)]\tLoss: 1.585058\n",
      "Train Epoch: 9 [25600/90000 (28%)]\tLoss: 1.022798\n",
      "Train Epoch: 9 [38400/90000 (43%)]\tLoss: 1.098474\n",
      "Train Epoch: 9 [51200/90000 (57%)]\tLoss: 1.413275\n",
      "Train Epoch: 9 [64000/90000 (71%)]\tLoss: 1.324968\n",
      "Train Epoch: 9 [76800/90000 (85%)]\tLoss: 1.366611\n",
      "Train Epoch: 9 [89600/90000 (99%)]\tLoss: 1.289885\n"
     ]
    }
   ],
   "source": [
    "train(model_2, optimizer_2, criterion_2, 10)"
   ]
  },
  {
   "cell_type": "code",
   "execution_count": 103,
   "metadata": {},
   "outputs": [
    {
     "name": "stdout",
     "output_type": "stream",
     "text": [
      "len(data): 90000, len(dataloader): 90000\n",
      "Test loss: 1.265936116557651\n",
      "Test accuracy: 0.5461444444444444\n"
     ]
    }
   ],
   "source": [
    "evaluate(model_2)"
   ]
  },
  {
   "cell_type": "code",
   "execution_count": 70,
   "metadata": {},
   "outputs": [],
   "source": [
    "logits = generate_logit(model_2, synthetic_dataloader)"
   ]
  },
  {
   "cell_type": "code",
   "execution_count": 34,
   "metadata": {},
   "outputs": [],
   "source": [
    "from torch.utils.data import TensorDataset"
   ]
  },
  {
   "cell_type": "code",
   "execution_count": 72,
   "metadata": {},
   "outputs": [],
   "source": [
    "logit_dataloader = DataLoader(TensorDataset(logits), batch_size=128)"
   ]
  },
  {
   "cell_type": "code",
   "execution_count": 90,
   "metadata": {},
   "outputs": [],
   "source": [
    "knowledge_distillation(logit_dataloader, synthetic_dataloader)"
   ]
  },
  {
   "cell_type": "code",
   "execution_count": 91,
   "metadata": {},
   "outputs": [
    {
     "name": "stdout",
     "output_type": "stream",
     "text": [
      "Test loss: 1.6232765786488852\n",
      "Test accuracy: 0.5146666666666667\n"
     ]
    }
   ],
   "source": [
    "evaluate(model)"
   ]
  },
  {
   "cell_type": "code",
   "execution_count": 47,
   "metadata": {},
   "outputs": [
    {
     "name": "stdout",
     "output_type": "stream",
     "text": [
      "2\n"
     ]
    }
   ],
   "source": [
    "for elem in enumerate(logit_dataloader):\n",
    "    print(len(elem))\n",
    "    break"
   ]
  },
  {
   "cell_type": "code",
   "execution_count": 84,
   "metadata": {},
   "outputs": [
    {
     "name": "stdout",
     "output_type": "stream",
     "text": [
      "torch.Size([128, 10])\n"
     ]
    }
   ],
   "source": [
    "for elem in logit_dataloader:\n",
    "    vari, = elem\n",
    "    print(vari.shape)\n",
    "    break\n"
   ]
  },
  {
   "cell_type": "code",
   "execution_count": 56,
   "metadata": {},
   "outputs": [
    {
     "data": {
      "text/plain": [
       "torch.Size([2500, 10])"
      ]
     },
     "execution_count": 56,
     "metadata": {},
     "output_type": "execute_result"
    }
   ],
   "source": [
    "logits.shape"
   ]
  },
  {
   "cell_type": "code",
   "execution_count": 68,
   "metadata": {},
   "outputs": [
    {
     "data": {
      "text/plain": [
       "<torch.utils.data.dataset.TensorDataset at 0x20f48263210>"
      ]
     },
     "execution_count": 68,
     "metadata": {},
     "output_type": "execute_result"
    }
   ],
   "source": [
    "TensorDataset(logits)"
   ]
  },
  {
   "cell_type": "code",
   "execution_count": 71,
   "metadata": {},
   "outputs": [
    {
     "data": {
      "text/plain": [
       "torch.Size([2500, 10])"
      ]
     },
     "execution_count": 71,
     "metadata": {},
     "output_type": "execute_result"
    }
   ],
   "source": [
    "logits.shape"
   ]
  },
  {
   "cell_type": "code",
   "execution_count": 101,
   "metadata": {},
   "outputs": [
    {
     "name": "stdout",
     "output_type": "stream",
     "text": [
      "Client_02\n"
     ]
    }
   ],
   "source": [
    "foo = 2\n",
    "print(f\"Client_{foo:02}\")"
   ]
  },
  {
   "cell_type": "code",
   "execution_count": 120,
   "metadata": {},
   "outputs": [
    {
     "name": "stdout",
     "output_type": "stream",
     "text": [
      "80591\n"
     ]
    },
    {
     "data": {
      "text/plain": [
       "<torch._C.Generator at 0x20f0f53b990>"
      ]
     },
     "execution_count": 120,
     "metadata": {},
     "output_type": "execute_result"
    }
   ],
   "source": [
    "seed = torch.randint(0, 100000, (1,)).item()\n",
    "print(seed)\n",
    "torch.manual_seed(seed)"
   ]
  },
  {
   "cell_type": "code",
   "execution_count": 118,
   "metadata": {},
   "outputs": [
    {
     "data": {
      "text/plain": [
       "153691923685100"
      ]
     },
     "execution_count": 118,
     "metadata": {},
     "output_type": "execute_result"
    }
   ],
   "source": [
    "torch.manual_seed(seed).seed()"
   ]
  },
  {
   "cell_type": "code",
   "execution_count": 125,
   "metadata": {},
   "outputs": [
    {
     "data": {
      "text/plain": [
       "166425389026300"
      ]
     },
     "execution_count": 125,
     "metadata": {},
     "output_type": "execute_result"
    }
   ],
   "source": [
    "torch.seed()"
   ]
  },
  {
   "cell_type": "code",
   "execution_count": 122,
   "metadata": {},
   "outputs": [
    {
     "name": "stdout",
     "output_type": "stream",
     "text": [
      "6640\n"
     ]
    },
    {
     "data": {
      "text/plain": [
       "<torch._C.Generator at 0x20f0f53b990>"
      ]
     },
     "execution_count": 122,
     "metadata": {},
     "output_type": "execute_result"
    }
   ],
   "source": [
    "import random\n",
    "new_seed = random.randint(0, 100000)\n",
    "print(new_seed)\n",
    "torch.manual_seed(new_seed)"
   ]
  },
  {
   "cell_type": "code",
   "execution_count": 123,
   "metadata": {},
   "outputs": [
    {
     "data": {
      "text/plain": [
       "166404888985300"
      ]
     },
     "execution_count": 123,
     "metadata": {},
     "output_type": "execute_result"
    }
   ],
   "source": [
    "torch.seed()"
   ]
  },
  {
   "cell_type": "code",
   "execution_count": 124,
   "metadata": {},
   "outputs": [
    {
     "data": {
      "text/plain": [
       "<torch._C.Generator at 0x20f0f53b990>"
      ]
     },
     "execution_count": 124,
     "metadata": {},
     "output_type": "execute_result"
    }
   ],
   "source": [
    "torch.manual_seed(new_seed)"
   ]
  },
  {
   "cell_type": "code",
   "execution_count": 126,
   "metadata": {},
   "outputs": [],
   "source": [
    "import os\n",
    "os.makedirs(\"checkpoints/test\", exist_ok=True)"
   ]
  },
  {
   "cell_type": "code",
   "execution_count": 132,
   "metadata": {},
   "outputs": [],
   "source": [
    "import time\n",
    "timestr = time.strftime(\"%Y%m%d-%H%M%S\")\n",
    "os.makedirs(f\"checkpoints/{timestr}\", exist_ok=True)"
   ]
  },
  {
   "cell_type": "code",
   "execution_count": 128,
   "metadata": {},
   "outputs": [
    {
     "data": {
      "text/plain": [
       "'20230711-170452'"
      ]
     },
     "execution_count": 128,
     "metadata": {},
     "output_type": "execute_result"
    }
   ],
   "source": [
    "timestr"
   ]
  },
  {
   "cell_type": "code",
   "execution_count": 129,
   "metadata": {},
   "outputs": [
    {
     "name": "stdout",
     "output_type": "stream",
     "text": [
      "/checkpoints/20230711-170452\n"
     ]
    }
   ],
   "source": [
    "print(f\"/checkpoints/{timestr}\")"
   ]
  },
  {
   "cell_type": "code",
   "execution_count": null,
   "metadata": {},
   "outputs": [],
   "source": []
  }
 ],
 "metadata": {
  "kernelspec": {
   "display_name": "COMP0124",
   "language": "python",
   "name": "python3"
  },
  "language_info": {
   "codemirror_mode": {
    "name": "ipython",
    "version": 3
   },
   "file_extension": ".py",
   "mimetype": "text/x-python",
   "name": "python",
   "nbconvert_exporter": "python",
   "pygments_lexer": "ipython3",
   "version": "3.11.3"
  },
  "orig_nbformat": 4
 },
 "nbformat": 4,
 "nbformat_minor": 2
}
