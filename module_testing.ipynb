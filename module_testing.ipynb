{
 "cells": [
  {
   "cell_type": "code",
   "execution_count": null,
   "metadata": {},
   "outputs": [],
   "source": [
    "import torch \n",
    "import torch.nn as nn\n",
    "import torch.nn.functional as F\n",
    "import torch.optim as optim\n",
    "from torch.utils.tensorboard import SummaryWriter\n",
    "\n",
    "from federated.Dataset import Dataset\n",
    "from federated.Client import Client\n",
    "from models.ClientModelStrategy import ClientModelStrategy\n",
    "from knowledge_distillation import Logits, SoftTarget"
   ]
  },
  {
   "cell_type": "markdown",
   "metadata": {},
   "source": [
    "## Dataset"
   ]
  },
  {
   "cell_type": "code",
   "execution_count": 2,
   "metadata": {},
   "outputs": [],
   "source": [
    "logger = SummaryWriter()"
   ]
  },
  {
   "cell_type": "code",
   "execution_count": 3,
   "metadata": {},
   "outputs": [],
   "source": [
    "data_path = \"dataset\\cinic-10\"\n",
    "synthetic_path = \"diffusion\\dataset\\cifar_10\"\n",
    "dataset_id = \"cinic10\"\n",
    "batch_size = 64\n",
    "kd_batch_size = 128\n",
    "num_clients = 2\n",
    "dataset = Dataset(data_path, dataset_id, batch_size, kd_batch_size, num_clients, synthetic_path)\n",
    "dataset.prepare_data(\"dirichlet\")\n",
    "synthetic_dataset = dataset.get_synthetic_data(None)"
   ]
  },
  {
   "cell_type": "markdown",
   "metadata": {},
   "source": [
    "## Client"
   ]
  },
  {
   "cell_type": "code",
   "execution_count": 4,
   "metadata": {},
   "outputs": [],
   "source": [
    "client_devices = [0] * (num_clients)\n",
    "client_models = ClientModelStrategy.available[\"strategy_1\"](num_clients)"
   ]
  },
  {
   "cell_type": "code",
   "execution_count": 18,
   "metadata": {},
   "outputs": [],
   "source": [
    "params = {\"num_classes\": 10,\n",
    "            \"optimizer\": optim.SGD, \n",
    "            \"criterion\": nn.CrossEntropyLoss, \n",
    "            \"lr\": 0.1 , \n",
    "            \"momentum\": 0.9, \n",
    "            \"epochs\": 10,\n",
    "            \"weight_decay\": 1e-4, \n",
    "            \"kd_optimizer\": optim.SGD,\n",
    "            \"kd_criterion\": SoftTarget,\n",
    "            \"kd_lr\": 0.1,\n",
    "            \"kd_momentum\": 0.9,\n",
    "            \"kd_alpha\": 0.5,\n",
    "            \"kd_temperature\": 1,\n",
    "            \"kd_epochs\": 10,\n",
    "            \"eval_seed\": 45, \n",
    "            \"synthetic_epochs\": 10}"
   ]
  },
  {
   "cell_type": "code",
   "execution_count": 6,
   "metadata": {},
   "outputs": [],
   "source": [
    "client_id = 0\n",
    "client = Client(client_id, \n",
    "                client_devices[client_id], \n",
    "                client_models[client_id](), \n",
    "                dataset.client_dataloaders[client_id],\n",
    "                params,\n",
    "                logger)"
   ]
  },
  {
   "cell_type": "code",
   "execution_count": 7,
   "metadata": {},
   "outputs": [],
   "source": [
    "client.init_client()"
   ]
  },
  {
   "cell_type": "markdown",
   "metadata": {},
   "source": []
  },
  {
   "cell_type": "code",
   "execution_count": null,
   "metadata": {},
   "outputs": [],
   "source": [
    "from torch.utils.data import DataLoader\n",
    "from torchvision.datasets import CIFAR10\n",
    "# import resnet18\n",
    "from torchvision.models import resnet18\n",
    "from torchvision import transforms\n",
    "transform = transforms.Compose([\n",
    "    transforms.Pad(4),\n",
    "    transforms.RandomHorizontalFlip(),\n",
    "    transforms.RandomCrop(32),\n",
    "    transforms.ToTensor()])\n",
    "\n",
    "demo_loader = DataLoader(CIFAR10(root=\"dataset\", train=False, transform=transform, download=True), batch_size=64, shuffle=True)\n",
    "model = resnet18(num_classes=10)\n",
    "optimizer = optim.SGD(model.parameters(), lr=0.1, momentum=0.9, weight_decay=1e-4)\n",
    "criterion = nn.CrossEntropyLoss()\n",
    "epochs = 10\n",
    "for epoch in range(epochs):\n",
    "    correct = 0\n",
    "    total = 0\n",
    "    total_loss = 0\n",
    "    for batch in demo_loader:\n",
    "        data, target = batch\n",
    "        # print(target[0])\n",
    "        optimizer.zero_grad()\n",
    "        output = model(data)\n",
    "        # print(output[0])\n",
    "        loss = criterion(output, target)\n",
    "        loss.backward()\n",
    "        optimizer.step()\n",
    "        _, predicted = torch.max(output.data, 1)\n",
    "        total += target.size(0)\n",
    "        correct += (predicted == target).sum().item()\n",
    "        total_loss += loss.item()\n",
    "    print(\"Epoch: {}, Loss: {}, Accuracy: {}\".format(epoch, total_loss/len(demo_loader), correct/total))\n"
   ]
  },
  {
   "cell_type": "markdown",
   "metadata": {},
   "source": [
    "## Server"
   ]
  },
  {
   "cell_type": "code",
   "execution_count": 7,
   "metadata": {},
   "outputs": [],
   "source": [
    "from federated.Server import Server\n",
    "from models.Models import Models"
   ]
  },
  {
   "cell_type": "code",
   "execution_count": 19,
   "metadata": {},
   "outputs": [],
   "source": [
    "server_device = 0\n",
    "server_model = Models.ResNet18()\n",
    "server = Server(server_device, server_model, params, logger)"
   ]
  },
  {
   "cell_type": "code",
   "execution_count": 20,
   "metadata": {},
   "outputs": [],
   "source": [
    "server.init_server()"
   ]
  },
  {
   "cell_type": "code",
   "execution_count": 21,
   "metadata": {},
   "outputs": [],
   "source": [
    "server.synthetic_dataset = synthetic_dataset"
   ]
  },
  {
   "cell_type": "code",
   "execution_count": 23,
   "metadata": {},
   "outputs": [],
   "source": [
    "server.synthetic_train()"
   ]
  },
  {
   "cell_type": "code",
   "execution_count": 24,
   "metadata": {},
   "outputs": [
    {
     "data": {
      "text/plain": [
       "10"
      ]
     },
     "execution_count": 24,
     "metadata": {},
     "output_type": "execute_result"
    }
   ],
   "source": [
    "server.params[\"synthetic_epochs\"]"
   ]
  },
  {
   "cell_type": "code",
   "execution_count": null,
   "metadata": {},
   "outputs": [],
   "source": []
  }
 ],
 "metadata": {
  "kernelspec": {
   "display_name": "DiT",
   "language": "python",
   "name": "python3"
  },
  "language_info": {
   "codemirror_mode": {
    "name": "ipython",
    "version": 3
   },
   "file_extension": ".py",
   "mimetype": "text/x-python",
   "name": "python",
   "nbconvert_exporter": "python",
   "pygments_lexer": "ipython3",
   "version": "3.11.3"
  },
  "orig_nbformat": 4
 },
 "nbformat": 4,
 "nbformat_minor": 2
}
