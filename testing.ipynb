{
 "cells": [
  {
   "cell_type": "code",
   "execution_count": 8,
   "metadata": {},
   "outputs": [],
   "source": [
    "import torch\n",
    "from models.Models import Models"
   ]
  },
  {
   "cell_type": "code",
   "execution_count": 9,
   "metadata": {},
   "outputs": [
    {
     "data": {
      "text/plain": [
       "dict_keys(['lenet5', 'resnet32', 'resnet18', 'mobilenetv3', 'vgg'])"
      ]
     },
     "execution_count": 9,
     "metadata": {},
     "output_type": "execute_result"
    }
   ],
   "source": [
    "Models.available.keys()"
   ]
  },
  {
   "cell_type": "code",
   "execution_count": 7,
   "metadata": {},
   "outputs": [
    {
     "ename": "AttributeError",
     "evalue": "module 'models.Models' has no attribute 'available'",
     "output_type": "error",
     "traceback": [
      "\u001b[0;31m---------------------------------------------------------------------------\u001b[0m",
      "\u001b[0;31mAttributeError\u001b[0m                            Traceback (most recent call last)",
      "Cell \u001b[0;32mIn[7], line 1\u001b[0m\n\u001b[0;32m----> 1\u001b[0m \u001b[39mlist\u001b[39m(Models\u001b[39m.\u001b[39;49mavailable\u001b[39m.\u001b[39mkeys())\n",
      "\u001b[0;31mAttributeError\u001b[0m: module 'models.Models' has no attribute 'available'"
     ]
    }
   ],
   "source": []
  },
  {
   "cell_type": "code",
   "execution_count": 11,
   "metadata": {},
   "outputs": [
    {
     "ename": "ValueError",
     "evalue": "Desired size is larger than the available values.",
     "output_type": "error",
     "traceback": [
      "\u001b[0;31m---------------------------------------------------------------------------\u001b[0m",
      "\u001b[0;31mValueError\u001b[0m                                Traceback (most recent call last)",
      "Cell \u001b[0;32mIn[11], line 15\u001b[0m\n\u001b[1;32m     11\u001b[0m \u001b[39m# Example usage\u001b[39;00m\n\u001b[1;32m     12\u001b[0m \u001b[39m# available_values = [1, 2, 3, 4, 5, 6, 7, 8, 9, 10]\u001b[39;00m\n\u001b[1;32m     13\u001b[0m desired_size \u001b[39m=\u001b[39m \u001b[39m6\u001b[39m\n\u001b[0;32m---> 15\u001b[0m result \u001b[39m=\u001b[39m generate_list(desired_size, \u001b[39mlist\u001b[39;49m(Models\u001b[39m.\u001b[39;49mavailable\u001b[39m.\u001b[39;49mkeys()))\n\u001b[1;32m     16\u001b[0m \u001b[39mprint\u001b[39m(result)\n",
      "Cell \u001b[0;32mIn[11], line 6\u001b[0m, in \u001b[0;36mgenerate_list\u001b[0;34m(n, values)\u001b[0m\n\u001b[1;32m      3\u001b[0m \u001b[39mdef\u001b[39;00m \u001b[39mgenerate_list\u001b[39m(n, values):\n\u001b[1;32m      4\u001b[0m     \u001b[39m# Check if the desired size is larger than the available values\u001b[39;00m\n\u001b[1;32m      5\u001b[0m     \u001b[39mif\u001b[39;00m n \u001b[39m>\u001b[39m \u001b[39mlen\u001b[39m(values):\n\u001b[0;32m----> 6\u001b[0m         \u001b[39mraise\u001b[39;00m \u001b[39mValueError\u001b[39;00m(\u001b[39m\"\u001b[39m\u001b[39mDesired size is larger than the available values.\u001b[39m\u001b[39m\"\u001b[39m)\n\u001b[1;32m      8\u001b[0m     \u001b[39m# Generate a random sample of size n from the values\u001b[39;00m\n\u001b[1;32m      9\u001b[0m     \u001b[39mreturn\u001b[39;00m random\u001b[39m.\u001b[39msample(values, n)\n",
      "\u001b[0;31mValueError\u001b[0m: Desired size is larger than the available values."
     ]
    }
   ],
   "source": [
    "import random\n",
    "\n",
    "def generate_list(n, values):\n",
    "    # Check if the desired size is larger than the available values\n",
    "    if n > len(values):\n",
    "        raise ValueError(\"Desired size is larger than the available values.\")\n",
    "\n",
    "    # Generate a random sample of size n from the values\n",
    "    return random.sample(values, n)\n",
    "\n",
    "# Example usage\n",
    "# available_values = [1, 2, 3, 4, 5, 6, 7, 8, 9, 10]\n",
    "desired_size = 6\n",
    "\n",
    "result = generate_list(desired_size, list(Models.available.keys()))\n",
    "print(result)"
   ]
  },
  {
   "cell_type": "code",
   "execution_count": 12,
   "metadata": {},
   "outputs": [],
   "source": [
    "def generate(model_list, num_clients):\n",
    "    strategy = [None] * num_clients\n",
    "    for i in range(num_clients):\n",
    "        strategy[i] = random.choice(model_list)\n",
    "    return strategy"
   ]
  },
  {
   "cell_type": "code",
   "execution_count": 18,
   "metadata": {},
   "outputs": [
    {
     "data": {
      "text/plain": [
       "['mobilenetv3',\n",
       " 'resnet18',\n",
       " 'lenet5',\n",
       " 'lenet5',\n",
       " 'resnet32',\n",
       " 'resnet18',\n",
       " 'resnet32',\n",
       " 'vgg',\n",
       " 'vgg',\n",
       " 'lenet5']"
      ]
     },
     "execution_count": 18,
     "metadata": {},
     "output_type": "execute_result"
    }
   ],
   "source": [
    "generate(list(Models.available.keys()), 10)"
   ]
  },
  {
   "cell_type": "code",
   "execution_count": 21,
   "metadata": {},
   "outputs": [],
   "source": [
    "import random\n",
    "def generate(model_list, num_clients):\n",
    "    return random.choices(model_list, k=num_clients)"
   ]
  },
  {
   "cell_type": "code",
   "execution_count": 30,
   "metadata": {},
   "outputs": [],
   "source": [
    "strategy = generate(list(Models.available.values()), 10)"
   ]
  },
  {
   "cell_type": "code",
   "execution_count": 37,
   "metadata": {},
   "outputs": [],
   "source": [
    "num_clients = 5"
   ]
  },
  {
   "cell_type": "code",
   "execution_count": 40,
   "metadata": {},
   "outputs": [
    {
     "data": {
      "text/plain": [
       "[<function models.Models.Models.ResNet18()>,\n",
       " <function models.Models.Models.ResNet18()>,\n",
       " <function models.Models.Models.ResNet32()>,\n",
       " <function models.Models.Models.ResNet32()>,\n",
       " <function models.Models.Models.ResNet32()>]"
      ]
     },
     "execution_count": 40,
     "metadata": {},
     "output_type": "execute_result"
    }
   ],
   "source": [
    "[Models.ResNet18] * (num_clients // 2) + [Models.ResNet32] * (num_clients - (num_clients // 2))"
   ]
  },
  {
   "cell_type": "code",
   "execution_count": 34,
   "metadata": {},
   "outputs": [
    {
     "data": {
      "text/plain": [
       "models.vgg.VGG19"
      ]
     },
     "execution_count": 34,
     "metadata": {},
     "output_type": "execute_result"
    }
   ],
   "source": [
    "random.choice(list(Models.available.values()))()"
   ]
  },
  {
   "cell_type": "code",
   "execution_count": 1,
   "metadata": {},
   "outputs": [],
   "source": [
    "foo = [1,2,3,4,5,6,7,8,9,10]"
   ]
  },
  {
   "cell_type": "code",
   "execution_count": 3,
   "metadata": {},
   "outputs": [
    {
     "data": {
      "text/plain": [
       "[2, 3, 4, 5, 6, 7, 8, 9, 10]"
      ]
     },
     "execution_count": 3,
     "metadata": {},
     "output_type": "execute_result"
    }
   ],
   "source": [
    "foo[1:]"
   ]
  },
  {
   "cell_type": "code",
   "execution_count": 4,
   "metadata": {},
   "outputs": [
    {
     "name": "stdout",
     "output_type": "stream",
     "text": [
      "model1 0\n",
      "model2 1\n",
      "model3 2\n",
      "model4 3\n"
     ]
    }
   ],
   "source": [
    "device_ids = [0, 1, 2, 3]  # List of GPU device IDs to use\n",
    "\n",
    "for i, (model, device_id) in enumerate(zip([\"model1\", \"model2\", \"model3\", \"model4\", \"model5\", \"model6\", \"model7\", \"model8\"], device_ids)):\n",
    "    print(model, device_id)"
   ]
  },
  {
   "cell_type": "code",
   "execution_count": null,
   "metadata": {},
   "outputs": [],
   "source": []
  }
 ],
 "metadata": {
  "kernelspec": {
   "display_name": "DiT",
   "language": "python",
   "name": "python3"
  },
  "language_info": {
   "codemirror_mode": {
    "name": "ipython",
    "version": 3
   },
   "file_extension": ".py",
   "mimetype": "text/x-python",
   "name": "python",
   "nbconvert_exporter": "python",
   "pygments_lexer": "ipython3",
   "version": "3.9.16"
  },
  "orig_nbformat": 4
 },
 "nbformat": 4,
 "nbformat_minor": 2
}
